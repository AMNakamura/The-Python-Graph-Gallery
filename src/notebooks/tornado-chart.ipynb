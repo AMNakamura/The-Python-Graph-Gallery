{
 "cells": [
  {
   "cell_type": "markdown",
   "metadata": {},
   "source": [
    "## Tornado Chart"
   ]
  },
  {
   "cell_type": "markdown",
   "metadata": {},
   "source": [
    "A __tornado chart__ can be created using a combination of broken horizontal <br> bar charts `broken_barh()` in matplotlib.\n",
    "\n",
    "Credit to *Marijn van Vliet* and *eitanlees* for code at <a href=\"https://stackoverflow.com/questions/32132773/a-tornado-chart-and-p10-p90-in-python-matplotlib\" target=\"_blank\">stackoverflow</a>. <br>"
   ]
  },
  {
   "cell_type": "code",
   "execution_count": 1,
   "metadata": {},
   "outputs": [],
   "source": [
    "# libraries\n",
    "import matplotlib.pyplot as plt\n",
    "from matplotlib.lines import Line2D\n",
    "import numpy as np\n",
    "import pandas as pd"
   ]
  },
  {
   "cell_type": "code",
   "execution_count": 16,
   "metadata": {},
   "outputs": [],
   "source": [
    "def tornado_chart(labels, midpoint, low_values, high_values):\n",
    "    \"\"\"\n",
    "    Parameters\n",
    "    ----------\n",
    "    labels : np.array()\n",
    "        List of label titles used to identify the variables, y-axis of bar\n",
    "        chart. The lengh of labels is used to itereate through to generate \n",
    "        the bar charts.\n",
    "    midpoint : float\n",
    "        Center value for bar charts to extend from. In sensitivity analysis\n",
    "        this is often the 'neutral' or 'default' model output.\n",
    "    low_values : np.array()\n",
    "        An np.array of the model output resulting from the low variable \n",
    "        selection. Same length and order as label_range. \n",
    "    high_values : np.array()\n",
    "        An np.array of the model output resulting from the high variable\n",
    "        selection. Same length and order as label_range.\n",
    "    \"\"\"\n",
    "    \n",
    "    color_low = '#d9301d'\n",
    "    color_high = '#196d20'\n",
    "    \n",
    "    ys = range(len(data['Labels']))[::1] # iterate through # of labels\n",
    "    \n",
    "    for y, low_value, high_value in zip(ys, data['Low values'], \n",
    "                                    data['High values']):\n",
    "    \n",
    "        low_width = midpoint - low_value\n",
    "        high_width = high_value - midpoint\n",
    "    \n",
    "        plt.broken_barh(\n",
    "            [\n",
    "                (low_value, low_width),\n",
    "                (midpoint, high_width)\n",
    "            ],\n",
    "            (y-0.4, 0.8), # thickness of bars and their offset\n",
    "            facecolors = [color_low, color_high],\n",
    "            edgecolors = ['black', 'black'],\n",
    "            linewidth = 0.5\n",
    "            )\n",
    "        \n",
    "        offset = 2 # offset value labels from end of bar\n",
    "        \n",
    "        if high_value > low_value:\n",
    "            x_high = midpoint + high_width + offset \n",
    "            x_low = midpoint - low_width - offset\n",
    "        else:\n",
    "            x_high = midpoint + high_width - offset\n",
    "            x_low = midpoint - low_width + offset\n",
    "\n",
    "        plt.text(x_high, y, str(high_value), va='center', ha='center')\n",
    "        plt.text(x_low, y, str(low_value), va='center', ha='center')\n",
    "    \n",
    "    plt.axvline(midpoint, color='black', linewidth = 1)\n",
    "\n",
    "    # set axis lines on or off\n",
    "    ax = plt.gca() \n",
    "    ax.spines['left'].set_visible(True)\n",
    "    ax.spines['right'].set_visible(False)\n",
    "    ax.spines['top'].set_visible(False)\n",
    "    ax.xaxis.set_ticks_position('bottom')\n",
    "    \n",
    "    # build legend \n",
    "    legend_lines = [Line2D([0], [0], color=color_low, lw=8),\n",
    "                    Line2D([0], [0], color=color_high, lw=8)]\n",
    "    ax.legend(legend_lines, ['Low', 'High'], loc='lower right')\n",
    "    \n",
    "    plt.xlabel('Model output')\n",
    "    plt.yticks(ys, labels)\n",
    "    plt.xlim(0,40)\n",
    "    plt.ylim(-0.5, len(labels)-0.5)\n",
    "    plt.show\n",
    "    \n",
    "    return"
   ]
  },
  {
   "cell_type": "code",
   "execution_count": 19,
   "metadata": {},
   "outputs": [],
   "source": [
    "# data for chart\n",
    "labels = np.char.array([\n",
    "    'Variable 1',\n",
    "    'Variable 2',\n",
    "    'Variable 3',\n",
    "    'Variable 4',\n",
    "    'Variable 5',\n",
    "    'Variable 6',\n",
    "]) \n",
    "\n",
    "# units or descriptions of labels\n",
    "sub_labels = np.char.array([\n",
    "    '\\n 1.0 - 5.0',\n",
    "    '\\n 11% - 15%',\n",
    "    '\\n $200 - $300',\n",
    "    '\\n $12 - $14',\n",
    "    '\\n Off - On',\n",
    "    '\\n Low - High'\n",
    "])\n",
    "labels = labels + sub_labels\n",
    "\n",
    "midpoint = 20\n",
    "\n",
    "# data values\n",
    "low_values = np.array([ # value order corresponds to label order\n",
    "    19.5,\n",
    "    18,\n",
    "    15.5,\n",
    "    12,\n",
    "    32.5,\n",
    "    4 \n",
    "])\n",
    "\n",
    "high_values = np.array([\n",
    "    20.5,\n",
    "    22,\n",
    "    24.5,\n",
    "    28,\n",
    "    7.5,\n",
    "    36\n",
    "])\n",
    "\n",
    "var_effect = np.abs(high_values - low_values)/midpoint\n",
    "\n",
    "data = pd.DataFrame({'Labels': labels,\n",
    "                     'Low values': low_values,\n",
    "                     'High values': high_values,\n",
    "                     'Variable effect' : var_effect\n",
    "                    })\n",
    "\n",
    "# sorts effect high to low, adjust to preference\n",
    "data = data.sort_values('Variable effect', axis=0, ascending=True, \n",
    "                        inplace=False, ignore_index=False, key=None)"
   ]
  },
  {
   "cell_type": "code",
   "execution_count": 20,
   "metadata": {},
   "outputs": [
    {
     "data": {
      "image/png": "[encoded data removed]",
      "text/plain": [
       "<Figure size 432x288 with 1 Axes>"
      ]
     },
     "metadata": {
      "needs_background": "light"
     },
     "output_type": "display_data"
    }
   ],
   "source": [
    "tornado_chart(labels, midpoint, data['Low values'], data['High values'])"
   ]
  },
  {
   "cell_type": "code",
   "execution_count": null,
   "metadata": {},
   "outputs": [],
   "source": []
  },
  {
   "cell_type": "code",
   "execution_count": null,
   "metadata": {},
   "outputs": [],
   "source": []
  },
  {
   "cell_type": "code",
   "execution_count": null,
   "metadata": {},
   "outputs": [],
   "source": [
    "\n"
   ]
  }
 ],
 "metadata": {
  "kernelspec": {
   "display_name": "Python 3",
   "language": "python",
   "name": "python3"
  },
  "language_info": {
   "codemirror_mode": {
    "name": "ipython",
    "version": 3
   },
   "file_extension": ".py",
   "mimetype": "text/x-python",
   "name": "python",
   "nbconvert_exporter": "python",
   "pygments_lexer": "ipython3",
   "version": "3.7.3"
  }
 },
 "nbformat": 4,
 "nbformat_minor": 4
}
