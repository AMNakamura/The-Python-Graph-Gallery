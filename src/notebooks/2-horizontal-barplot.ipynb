{
 "cells": [
  {
   "cell_type": "markdown",
   "metadata": {},
   "source": [
    "## Libraries & Dataset\n",
    "\n",
    "First, we need to load a few libraries and a dataset:"
   ]
  },
  {
   "cell_type": "code",
   "execution_count": 1,
   "metadata": {},
   "outputs": [],
   "source": [
    "# libraries\n",
    "import matplotlib.pyplot as plt\n",
    "import numpy as np\n",
    "import pandas as pd\n",
    "\n",
    "# create dataset\n",
    "height = [3, 12, 5, 18, 45]\n",
    "bars = ('A', 'B', 'C', 'D', 'E')\n",
    "\n",
    "df = pd.DataFrame({\n",
    "    'Group': bars,\n",
    "    'Value': height\n",
    "})"
   ]
  },
  {
   "cell_type": "markdown",
   "metadata": {},
   "source": [
    "## 📍 Most basic\n",
    "\n",
    "Building a horizontal barplot with [matplotlib](http://python-graph-gallery.com/matplotlib/) follows pretty much the same process as a vertical [barplot](http://python-graph-gallery.com/barplot/). The only difference is that the `barh()` function must be used instead of the `bar()` function. Here is a basic example:"
   ]
  },
  {
   "cell_type": "code",
   "execution_count": 2,
   "metadata": {},
   "outputs": [
    {
     "data": {
      "image/png": "[encoded data removed]",
      "text/plain": [
       "<Figure size 640x480 with 1 Axes>"
      ]
     },
     "metadata": {},
     "output_type": "display_data"
    }
   ],
   "source": [
    "# Create horizontal bars\n",
    "plt.barh(y=df.Group, width=df.Value)\n",
    "\n",
    "# Show graphic\n",
    "plt.show()"
   ]
  },
  {
   "cell_type": "markdown",
   "metadata": {},
   "source": [
    "## ↕️ Control order"
   ]
  },
  {
   "cell_type": "markdown",
   "metadata": {},
   "source": [
    "A [bar chart](http://python-graph-gallery.com/barplot/) is always more insightful when ordered. It allows to understand how items are ranked much quicker. Since [matplotlib](http://python-graph-gallery.com/matplotlib/) traces the values in the **order in which they are found** in the data frame, you just have to **sort the dataframe** upfront to sort the chart:"
   ]
  },
  {
   "cell_type": "code",
   "execution_count": 3,
   "metadata": {},
   "outputs": [
    {
     "data": {
      "image/png": "[encoded data removed]",
      "text/plain": [
       "<Figure size 640x480 with 1 Axes>"
      ]
     },
     "metadata": {},
     "output_type": "display_data"
    }
   ],
   "source": [
    "# Sort the table\n",
    "df = df.sort_values(by=['Value'])\n",
    "\n",
    "# Create horizontal bars\n",
    "plt.barh(y=df.Group, width=df.Value)\n",
    "\n",
    "# Display the plot\n",
    "plt.show()"
   ]
  },
  {
   "cell_type": "markdown",
   "metadata": {},
   "source": [
    "## ✨ Object-oriented API"
   ]
  },
  {
   "cell_type": "markdown",
   "metadata": {},
   "source": [
    "Same graph as above using the matplotlib object `oriented API` instead of the `pyplot API`. See the [matplotlib](http://python-graph-gallery.com/matplotlib/) section for more about this."
   ]
  },
  {
   "cell_type": "code",
   "execution_count": 6,
   "metadata": {},
   "outputs": [
    {
     "data": {
      "image/png": "[encoded data removed]",
      "text/plain": [
       "<Figure size 640x480 with 1 Axes>"
      ]
     },
     "metadata": {},
     "output_type": "display_data"
    }
   ],
   "source": [
    "# Initialize a Figure and an Axes\n",
    "fig, ax = plt.subplots()\n",
    "\n",
    "# Create horizontal bars\n",
    "ax.barh(y=df.Group, width=df.Value)\n",
    "\n",
    "# Show the plot\n",
    "plt.show()"
   ]
  },
  {
   "cell_type": "markdown",
   "metadata": {},
   "source": [
    "## Going further\n",
    "\n",
    "This post explains how to create a horizontal [barplot](https://python-graph-gallery.com/barplot/) using [matplotlib](https://python-graph-gallery.com/matplotlib/)!\n",
    "\n",
    "For more examples of **how to create or customize** your barplots, see the [barplot section](https://python-graph-gallery.com/barplot/). You may also be interested in how to [custom colors in a barplot](https://python-graph-gallery.com/3-control-color-of-barplots/)."
   ]
  }
 ],
 "metadata": {
  "chartType": "barplot",
  "description": "This post describes how to build a <b>basic horizontal barplot</b> using <a href='https://python-graph-gallery.com/matplotlib/'>matplotlib</a>. You'll also learn how to <b>control order</b> of the bars.",
  "family": "ranking",
  "kernelspec": {
   "display_name": "Python 3",
   "language": "python",
   "name": "python3"
  },
  "keywords": "python, chart, plot, seaborn, matplotlib, barplot, barh",
  "language_info": {
   "codemirror_mode": {
    "name": "ipython",
    "version": 3
   },
   "file_extension": ".py",
   "mimetype": "text/x-python",
   "name": "python",
   "nbconvert_exporter": "python",
   "pygments_lexer": "ipython3",
   "version": "3.9.13"
  },
  "seoDescription": "Plotting a horizontal barplot using matplotlib library",
  "slug": "2-horizontal-barplot",
  "title": "Plotting a Horizontal Barplot using Matplotlib"
 },
 "nbformat": 4,
 "nbformat_minor": 4
}
