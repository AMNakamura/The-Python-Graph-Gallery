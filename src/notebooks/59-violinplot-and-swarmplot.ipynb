{
 "cells": [
  {
   "attachments": {},
   "cell_type": "markdown",
   "metadata": {},
   "source": [
    "## Libraries\n",
    "\n",
    "As usual, a couple of libraries are required. \n",
    "\n",
    "[Matplotlib](https://python-graph-gallery.com/matplotlib/) and [Seaborn](https://python-graph-gallery.com/seaborn/) are the most common libraries when it comes to visualize data with **Python**. In this example, `seaborn` will be used to create most of the figure, and `matplotlib` will just allow to customize the axes and the grid.\n",
    "\n",
    "`pandas` is a very handy library used for data wrangling."
   ]
  },
  {
   "cell_type": "code",
   "execution_count": null,
   "metadata": {},
   "outputs": [],
   "source": [
    "# libraries & dataset\n",
    "import pandas as pd\n",
    "import seaborn as sns\n",
    "import matplotlib.pyplot as plt"
   ]
  },
  {
   "attachments": {},
   "cell_type": "markdown",
   "metadata": {},
   "source": [
    "## Dataset\n",
    "\n",
    "The dataset is stored here. It can be loaded into our working environment thanks to the `read.csv()` function of `pandas`."
   ]
  },
  {
   "cell_type": "code",
   "execution_count": null,
   "metadata": {},
   "outputs": [],
   "source": [
    "df = pd.read_csv('https://raw.githubusercontent.com/holtzy/The-Python-Graph-Gallery/master/static/data/sqa_data.csv')"
   ]
  },
  {
   "attachments": {},
   "cell_type": "markdown",
   "metadata": {},
   "source": [
    "## Color palette\n",
    "\n",
    "In this example I suggest to pick color **manually** since only 3 groups are to be displayed. \n",
    "\n",
    "The code below builds 2 `dict`. The first one, `swarmplot_palette`, setup the colors for the dots that will appear over the violin chart. `violin_palette` setup 3 darker colors for the violin shapes below."
   ]
  },
  {
   "cell_type": "code",
   "execution_count": null,
   "metadata": {},
   "outputs": [],
   "source": [
    "# Palettes for the areas and the datapoints \n",
    "# Light colors for the dots\n",
    "swarmplot_palette = {'Sqa_par':'#8f96bf', 'Sqa_bif':'#ebb0e5', 'Sqa_zz':'#9feed3'}\n",
    "\n",
    "# Dark colors for the violin\n",
    "violin_palette = {'Sqa_par':'#333c70', 'Sqa_bif':'#90367c', 'Sqa_zz':'#34906c'}"
   ]
  },
  {
   "attachments": {},
   "cell_type": "markdown",
   "metadata": {},
   "source": [
    "## Plot"
   ]
  },
  {
   "cell_type": "code",
   "execution_count": null,
   "metadata": {},
   "outputs": [],
   "source": [
    "# create figure and seaborn context\n",
    "sns.set_context('notebook', font_scale=1.5)\n",
    "fig, ax = plt.subplots(figsize=(14,6))\n",
    "\n",
    "# Plot the violin\n",
    "ax = sns.violinplot(y=\"dist\", \n",
    "                    x=\"name\", \n",
    "                    data=df_sqa,\n",
    "                    palette=violin_palette,\n",
    "                    scale='count',\n",
    "                    inner=None\n",
    "              )\n",
    "\n",
    "# Plot the swarmplot on top \n",
    "ax = sns.swarmplot(y=\"dist\",\n",
    "                   x=\"name\",\n",
    "                   data=df_sqa, \n",
    "                   color=\"white\", \n",
    "                   edgecolor=\"gray\",\n",
    "                   s=8,\n",
    "                   palette=swarmplot_palette\n",
    "             )\n",
    "\n",
    "# Change axis labels, ticks and title\n",
    "ax.set_xticks([0, 1, 2], ['Parallel','Bifurcated','Zig-zag'])\n",
    "ax.set_xlabel('Squaramide CCSD systems')\n",
    "ax.set_ylabel(r'$HB distance\\ (\\AA)$')\n",
    "\n",
    "# Add horizontal grid\n",
    "ax.grid(axis='y')\n",
    "ax.set_axisbelow(True)\n",
    "\n",
    "plt.show()"
   ]
  }
 ],
 "metadata": {
  "chartType": "violin",
  "description": "Once you know how to make a violinplot with seaborn, it is quite straightforward to turn it horizontal. To do so, you may just switch the order through which you declare the variables inside seaborn violinplot function.",
  "family": "distribution",
  "kernelspec": {
   "display_name": "Python 3",
   "language": "python",
   "name": "python3"
  },
  "keywords": "python, chart, plot, seaborn, matplotlib, violinplot",
  "language_info": {
   "codemirror_mode": {
    "name": "ipython",
    "version": 3
   },
   "file_extension": ".py",
   "mimetype": "text/x-python",
   "name": "python",
   "nbconvert_exporter": "python",
   "pygments_lexer": "ipython3",
   "version": "3.7.6-final"
  },
  "seoDescription": "horizontal violinplot with seaborn",
  "slug": "51-horizontal-violinplot",
  "title": "Horizontal violinplot"
 },
 "nbformat": 4,
 "nbformat_minor": 4
}
