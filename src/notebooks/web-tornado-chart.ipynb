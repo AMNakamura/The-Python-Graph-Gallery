{
 "cells": [
  {
   "cell_type": "markdown",
   "metadata": {},
   "source": []
  },
  {
   "cell_type": "markdown",
   "metadata": {},
   "source": [
    "## Libraries\n",
    "\n",
    "First, we need to install the following libraries:"
   ]
  },
  {
   "cell_type": "code",
   "execution_count": 4,
   "metadata": {},
   "outputs": [],
   "source": [
    "# libraries\n",
    "import matplotlib.pyplot as plt\n",
    "from matplotlib.lines import Line2D\n",
    "import numpy as np\n",
    "import pandas as pd"
   ]
  },
  {
   "cell_type": "markdown",
   "metadata": {},
   "source": [
    "## Dataset\n",
    "\n",
    "The dataset is set up to compare the effects of six different variables, each with a specific range or description (like \"1.0 - 5.0\" or \"$200 - $300\"). It includes **low and high values** for each variable and calculates the **effect of each variable** based on the difference between these values, **relative to a midpoint** of 20. The data is then organized to show the variables' effects from lowest to highest."
   ]
  },
  {
   "cell_type": "code",
   "execution_count": 5,
   "metadata": {},
   "outputs": [],
   "source": [
    "# data for chart\n",
    "labels = np.char.array([\n",
    "    \"Variable 1\\n 1.0 - 5.0\",\n",
    "    \"Variable 2\\n 11% - 15%\",\n",
    "    \"Variable 3\\n $200 - $300\",\n",
    "    \"Variable 4\\n $12 - $14\",\n",
    "    \"Variable 5\\n Off - On\",\n",
    "    \"Variable 6\\n Low - High\",\n",
    "])\n",
    "\n",
    "midpoint = 20\n",
    "\n",
    "# data values\n",
    "low_values = np.array([ # value order corresponds to label order\n",
    "    19.5,\n",
    "    18,\n",
    "    15.5,\n",
    "    12,\n",
    "    32.5,\n",
    "    4 \n",
    "])\n",
    "\n",
    "high_values = np.array([\n",
    "    20.5,\n",
    "    22,\n",
    "    24.5,\n",
    "    28,\n",
    "    7.5,\n",
    "    36\n",
    "])\n",
    "\n",
    "var_effect = np.abs(high_values - low_values)/midpoint\n",
    "\n",
    "data = pd.DataFrame({'Labels': labels,\n",
    "                     'Low values': low_values,\n",
    "                     'High values': high_values,\n",
    "                     'Variable effect' : var_effect\n",
    "                    })\n",
    "\n",
    "# sorts effect high to low (adjust to preference)\n",
    "data = data.sort_values(\n",
    "    'Variable effect',\n",
    "    ascending=True,\n",
    "    inplace=False,\n",
    "    ignore_index=False,\n",
    "    key=None\n",
    ")"
   ]
  },
  {
   "cell_type": "markdown",
   "metadata": {},
   "source": [
    "## Tornado chart\n",
    "\n",
    "- **Set Colors**: It defines two colors, one for the low values and another for the high values.\n",
    "\n",
    "- **Prepare Y-Axis**: It calculates the positions on the y-axis for each variable label using the `range` function.\n",
    "\n",
    "- **Loop Through Variables**: For each variable (using `zip` to iterate through `ys`, `low_values`, and `high_values` together), the function calculates the widths of the bars extending to the left and right from the midpoint (for low and high values, respectively) and then draws these bars using `plt.broken_barh`.\n",
    "\n",
    "- **Text Labels for Values**: The function adds text labels to the ends of the bars to indicate the numerical values for the low and high inputs.\n",
    "\n",
    "- **Midpoint Line**: Draws a vertical line at the `midpoint` value to visually anchor the bars.\n",
    "\n",
    "- **Axis Formatting**: Adjusts the visibility of the axis spines and ticks, aiming to simplify and clean up the chart's appearance.\n",
    "\n",
    "- **Legend**: Adds a legend to the chart to indicate which color represents low values and which represents high values.\n",
    "\n",
    "- **Labels and Limits**: Sets the labels for the x-axis and y-axis, the tick marks for the y-axis, and the chart's x and y limits.\n",
    "\n",
    "- **Display Chart**: Finally, it prepares the chart for display with `plt.show`, though it's worth noting the code should actually call `plt.show()` to display the chart when the function is used."
   ]
  },
  {
   "cell_type": "code",
   "execution_count": 6,
   "metadata": {},
   "outputs": [],
   "source": [
    "def tornado_chart(labels, midpoint, low_values, high_values):\n",
    "    \"\"\"\n",
    "    Parameters\n",
    "    ----------\n",
    "    labels : np.array()\n",
    "        List of label titles used to identify the variables, y-axis of bar\n",
    "        chart. The lengh of labels is used to itereate through to generate \n",
    "        the bar charts.\n",
    "    midpoint : float\n",
    "        Center value for bar charts to extend from. In sensitivity analysis\n",
    "        this is often the 'neutral' or 'default' model output.\n",
    "    low_values : np.array()\n",
    "        An np.array of the model output resulting from the low variable \n",
    "        selection. Same length and order as label_range. \n",
    "    high_values : np.array()\n",
    "        An np.array of the model output resulting from the high variable\n",
    "        selection. Same length and order as label_range.\n",
    "    \"\"\"\n",
    "    \n",
    "    color_low = '#d9301d'\n",
    "    color_high = '#196d20'\n",
    "    \n",
    "    ys = range(len(data['Labels']))[::1] # iterate through # of labels\n",
    "    \n",
    "    for y, low_value, high_value in zip(ys, low_values, high_values):\n",
    "    \n",
    "        low_width = midpoint - low_value\n",
    "        high_width = high_value - midpoint\n",
    "    \n",
    "        plt.broken_barh(\n",
    "            [\n",
    "                (low_value, low_width),\n",
    "                (midpoint, high_width)\n",
    "            ],\n",
    "            (y-0.4, 0.8), # thickness of bars and their offset\n",
    "            facecolors = [color_low, color_high],\n",
    "            edgecolors = ['black', 'black'],\n",
    "            linewidth = 0.5\n",
    "            )\n",
    "        \n",
    "        offset = 2 # offset value labels from end of bar\n",
    "        \n",
    "        if high_value > low_value:\n",
    "            x_high = midpoint + high_width + offset \n",
    "            x_low = midpoint - low_width - offset\n",
    "        else:\n",
    "            x_high = midpoint + high_width - offset\n",
    "            x_low = midpoint - low_width + offset\n",
    "\n",
    "        plt.text(x_high, y, str(high_value), va='center', ha='center')\n",
    "        plt.text(x_low, y, str(low_value), va='center', ha='center')\n",
    "    \n",
    "    plt.axvline(midpoint, color='black', linewidth = 1)\n",
    "\n",
    "    # set axis lines on or off\n",
    "    ax = plt.gca() \n",
    "    ax.spines['left'].set_visible(True)\n",
    "    ax.spines['right'].set_visible(False)\n",
    "    ax.spines['top'].set_visible(False)\n",
    "    ax.xaxis.set_ticks_position('bottom')\n",
    "    \n",
    "    # build legend \n",
    "    legend_lines = [Line2D([0], [0], color=color_low, lw=8),\n",
    "                    Line2D([0], [0], color=color_high, lw=8)]\n",
    "    ax.legend(legend_lines, ['Low', 'High'], loc='lower right')\n",
    "    \n",
    "    plt.xlabel('Model output')\n",
    "    plt.yticks(ys, labels)\n",
    "    plt.xlim(0,40)\n",
    "    plt.ylim(-0.5, len(labels)-0.5)\n",
    "    plt.show\n",
    "    \n",
    "    return"
   ]
  },
  {
   "cell_type": "markdown",
   "metadata": {},
   "source": [
    "Then, we just have to call our function with the data to create the chart:"
   ]
  },
  {
   "cell_type": "code",
   "execution_count": 7,
   "metadata": {},
   "outputs": [
    {
     "data": {
      "image/png": "[encoded data removed]",
      "text/plain": [
       "<Figure size 640x480 with 1 Axes>"
      ]
     },
     "metadata": {},
     "output_type": "display_data"
    }
   ],
   "source": [
    "tornado_chart(labels, midpoint, data['Low values'], data['High values'])"
   ]
  },
  {
   "cell_type": "markdown",
   "metadata": {},
   "source": [
    "## Going further\n",
    "\n",
    "This article explains how to create a tornado chart, which is just an example of a more advanced [barplot](https://python-graph-gallery.com/barplot).\n",
    "\n",
    "For more examples of **advanced customization**, check out the [barplot section](https://python-graph-gallery.com/barplot). Also, you might be interested in [populzyion pyramid chart](https://python-graph-gallery.com/web-population-pyramid/), which is a very similar type of charts!"
   ]
  }
 ],
 "metadata": {
  "chartType": "barplot",
  "description": "A <b>tornado chart</b> can be created using a combination of broken horizontal <a href='https://python-graph-gallery.com/barplot/'>bar charts</a> <code>broken_barh()</code> in matplotlib.<br>Credit to <i>Marijn van Vliet</i> and <i>eitanlees</i> for code at <a href='https://stackoverflow.com/questions/32132773/a-tornado-chart-and-p10-p90-in-python-matplotlib' target='_blank'>stackoverflow</a>.",
  "family": "ranking",
  "kernelspec": {
   "display_name": "Python 3 (ipykernel)",
   "language": "python",
   "name": "python3"
  },
  "keywords": "tornado, chart, plot, matplotlib, python",
  "language_info": {
   "codemirror_mode": {
    "name": "ipython",
    "version": 3
   },
   "file_extension": ".py",
   "mimetype": "text/x-python",
   "name": "python",
   "nbconvert_exporter": "python",
   "pygments_lexer": "ipython3",
   "version": "3.9.13"
  },
  "seoDescription": "How to create a tornado chart using matplotlib",
  "slug": "web-tornado-chart",
  "title": "How to create a tornado chart with matplotlib"
 },
 "nbformat": 4,
 "nbformat_minor": 4
}
