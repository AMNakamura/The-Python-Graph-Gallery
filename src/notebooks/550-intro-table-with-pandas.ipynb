{
 "cells": [
  {
   "attachments": {},
   "cell_type": "markdown",
   "metadata": {
    "tags": []
   },
   "source": [
    "## Libraries\n",
    "\n",
    "First, you need to install the following librairies:\n",
    "- [matplotlib](https://python-graph-gallery.com/matplotlib/) is used for plot creating the charts\n",
    "- [pandas](https://python-graph-gallery.com/pandas/) is used to put the data into a dataframe and custom the table\n",
    "- `numpy` is used to generate some data"
   ]
  },
  {
   "cell_type": "code",
   "execution_count": 1,
   "metadata": {
    "tags": []
   },
   "outputs": [],
   "source": [
    "import pandas as pd\n",
    "import matplotlib as mpl\n",
    "\n",
    "# data generation\n",
    "import numpy as np"
   ]
  },
  {
   "attachments": {},
   "cell_type": "markdown",
   "metadata": {},
   "source": [
    "## Dataset\n",
    "\n",
    "When creating **nice output tables**, we first need to have the dataframe with the values we want. \n",
    "\n",
    "In this post, we'll use *fake weather data* from different cities. We'll take a look at different simple features of [pandas](https://python-graph-gallery.com/pandas/)  to make this table more **aesthetically appealing**."
   ]
  },
  {
   "cell_type": "code",
   "execution_count": 2,
   "metadata": {
    "tags": []
   },
   "outputs": [],
   "source": [
    "sample_size = 6\n",
    "\n",
    "new_york = np.random.uniform(20,60,sample_size)\n",
    "paris = np.random.uniform(20,40,sample_size)\n",
    "london = np.random.uniform(5,30,sample_size)\n",
    "\n",
    "df = pd.DataFrame({'new_york': new_york,\n",
    "                   'paris': paris,\n",
    "                   'london': london},\n",
    "                 \n",
    "                 # generate date values in the index of the dataframe\n",
    "                 index=pd.date_range(start=\"2020-01-01\", periods=sample_size).strftime(\"%d-%m-%Y\"))"
   ]
  },
  {
   "attachments": {},
   "cell_type": "markdown",
   "metadata": {},
   "source": [
    "## Default output\n",
    "\n",
    "The default result **isn't very pretty**, but it's from this base that we'll build something more pleasing to the eye."
   ]
  },
  {
   "cell_type": "code",
   "execution_count": 3,
   "metadata": {
    "tags": []
   },
   "outputs": [
    {
     "data": {
      "text/html": [
       "<div>\n",
       "<style scoped>\n",
       "    .dataframe tbody tr th:only-of-type {\n",
       "        vertical-align: middle;\n",
       "    }\n",
       "\n",
       "    .dataframe tbody tr th {\n",
       "        vertical-align: top;\n",
       "    }\n",
       "\n",
       "    .dataframe thead th {\n",
       "        text-align: right;\n",
       "    }\n",
       "</style>\n",
       "<table border=\"1\" class=\"dataframe\">\n",
       "  <thead>\n",
       "    <tr style=\"text-align: right;\">\n",
       "      <th></th>\n",
       "      <th>new_york</th>\n",
       "      <th>paris</th>\n",
       "      <th>london</th>\n",
       "    </tr>\n",
       "  </thead>\n",
       "  <tbody>\n",
       "    <tr>\n",
       "      <th>01-01-2020</th>\n",
       "      <td>26.978256</td>\n",
       "      <td>31.887979</td>\n",
       "      <td>14.384105</td>\n",
       "    </tr>\n",
       "    <tr>\n",
       "      <th>02-01-2020</th>\n",
       "      <td>58.003981</td>\n",
       "      <td>26.757171</td>\n",
       "      <td>7.305029</td>\n",
       "    </tr>\n",
       "    <tr>\n",
       "      <th>03-01-2020</th>\n",
       "      <td>28.210881</td>\n",
       "      <td>31.345565</td>\n",
       "      <td>21.587470</td>\n",
       "    </tr>\n",
       "    <tr>\n",
       "      <th>04-01-2020</th>\n",
       "      <td>56.384150</td>\n",
       "      <td>25.721698</td>\n",
       "      <td>22.483764</td>\n",
       "    </tr>\n",
       "    <tr>\n",
       "      <th>05-01-2020</th>\n",
       "      <td>43.165534</td>\n",
       "      <td>34.661872</td>\n",
       "      <td>29.421549</td>\n",
       "    </tr>\n",
       "    <tr>\n",
       "      <th>06-01-2020</th>\n",
       "      <td>39.859488</td>\n",
       "      <td>20.190269</td>\n",
       "      <td>7.275957</td>\n",
       "    </tr>\n",
       "  </tbody>\n",
       "</table>\n",
       "</div>"
      ],
      "text/plain": [
       "             new_york      paris     london\n",
       "01-01-2020  26.978256  31.887979  14.384105\n",
       "02-01-2020  58.003981  26.757171   7.305029\n",
       "03-01-2020  28.210881  31.345565  21.587470\n",
       "04-01-2020  56.384150  25.721698  22.483764\n",
       "05-01-2020  43.165534  34.661872  29.421549\n",
       "06-01-2020  39.859488  20.190269   7.275957"
      ]
     },
     "execution_count": 3,
     "metadata": {},
     "output_type": "execute_result"
    }
   ],
   "source": [
    "df"
   ]
  },
  {
   "attachments": {},
   "cell_type": "markdown",
   "metadata": {},
   "source": [
    "## Change colors\n",
    "\n",
    "A clean way to apply modifications to [Pandas](https://python-graph-gallery.com) tables is to create a function that performs the **modifications**, then apply this function to our data frame.\n",
    "\n",
    "- We use a colormap named *\"Reds\"*, that will put the **background color** of each cell depending on the value in the cell.\n",
    "\n",
    "Once the function is defined, we use the `style()` and `pipe()` from [Pandas](https://python-graph-gallery.com) to **apply this function** to the dataframe. "
   ]
  },
  {
   "cell_type": "code",
   "execution_count": 4,
   "metadata": {
    "tags": []
   },
   "outputs": [
    {
     "ename": "ImportError",
     "evalue": "Missing optional dependency 'Jinja2'. DataFrame.style requires jinja2. Use pip or conda to install Jinja2.",
     "output_type": "error",
     "traceback": [
      "\u001b[0;31m---------------------------------------------------------------------------\u001b[0m",
      "\u001b[0;31mModuleNotFoundError\u001b[0m                       Traceback (most recent call last)",
      "File \u001b[0;32m~/Library/Python/3.9/lib/python/site-packages/pandas/compat/_optional.py:142\u001b[0m, in \u001b[0;36mimport_optional_dependency\u001b[0;34m(name, extra, errors, min_version)\u001b[0m\n\u001b[1;32m    141\u001b[0m \u001b[39mtry\u001b[39;00m:\n\u001b[0;32m--> 142\u001b[0m     module \u001b[39m=\u001b[39m importlib\u001b[39m.\u001b[39;49mimport_module(name)\n\u001b[1;32m    143\u001b[0m \u001b[39mexcept\u001b[39;00m \u001b[39mImportError\u001b[39;00m:\n",
      "File \u001b[0;32m/Library/Developer/CommandLineTools/Library/Frameworks/Python3.framework/Versions/3.9/lib/python3.9/importlib/__init__.py:127\u001b[0m, in \u001b[0;36mimport_module\u001b[0;34m(name, package)\u001b[0m\n\u001b[1;32m    126\u001b[0m         level \u001b[39m+\u001b[39m\u001b[39m=\u001b[39m \u001b[39m1\u001b[39m\n\u001b[0;32m--> 127\u001b[0m \u001b[39mreturn\u001b[39;00m _bootstrap\u001b[39m.\u001b[39;49m_gcd_import(name[level:], package, level)\n",
      "File \u001b[0;32m<frozen importlib._bootstrap>:1030\u001b[0m, in \u001b[0;36m_gcd_import\u001b[0;34m(name, package, level)\u001b[0m\n",
      "File \u001b[0;32m<frozen importlib._bootstrap>:1007\u001b[0m, in \u001b[0;36m_find_and_load\u001b[0;34m(name, import_)\u001b[0m\n",
      "File \u001b[0;32m<frozen importlib._bootstrap>:984\u001b[0m, in \u001b[0;36m_find_and_load_unlocked\u001b[0;34m(name, import_)\u001b[0m\n",
      "\u001b[0;31mModuleNotFoundError\u001b[0m: No module named 'jinja2'",
      "\nDuring handling of the above exception, another exception occurred:\n",
      "\u001b[0;31mImportError\u001b[0m                               Traceback (most recent call last)",
      "Cell \u001b[0;32mIn[4], line 5\u001b[0m\n\u001b[1;32m      2\u001b[0m     styler\u001b[39m.\u001b[39mbackground_gradient(cmap\u001b[39m=\u001b[39m\u001b[39m\"\u001b[39m\u001b[39mReds\u001b[39m\u001b[39m\"\u001b[39m, axis\u001b[39m=\u001b[39m\u001b[39mNone\u001b[39;00m)\n\u001b[1;32m      3\u001b[0m     \u001b[39mreturn\u001b[39;00m styler\n\u001b[0;32m----> 5\u001b[0m df\u001b[39m.\u001b[39;49mstyle\u001b[39m.\u001b[39mpipe(custom_table)\n",
      "File \u001b[0;32m~/Library/Python/3.9/lib/python/site-packages/pandas/core/frame.py:1291\u001b[0m, in \u001b[0;36mDataFrame.style\u001b[0;34m(self)\u001b[0m\n\u001b[1;32m   1279\u001b[0m \u001b[39m@property\u001b[39m\n\u001b[1;32m   1280\u001b[0m \u001b[39mdef\u001b[39;00m \u001b[39mstyle\u001b[39m(\u001b[39mself\u001b[39m) \u001b[39m-\u001b[39m\u001b[39m>\u001b[39m Styler:\n\u001b[1;32m   1281\u001b[0m \u001b[39m    \u001b[39m\u001b[39m\"\"\"\u001b[39;00m\n\u001b[1;32m   1282\u001b[0m \u001b[39m    Returns a Styler object.\u001b[39;00m\n\u001b[1;32m   1283\u001b[0m \n\u001b[0;32m   (...)\u001b[0m\n\u001b[1;32m   1289\u001b[0m \u001b[39m        data with HTML and CSS.\u001b[39;00m\n\u001b[1;32m   1290\u001b[0m \u001b[39m    \"\"\"\u001b[39;00m\n\u001b[0;32m-> 1291\u001b[0m     \u001b[39mfrom\u001b[39;00m \u001b[39mpandas\u001b[39;00m\u001b[39m.\u001b[39;00m\u001b[39mio\u001b[39;00m\u001b[39m.\u001b[39;00m\u001b[39mformats\u001b[39;00m\u001b[39m.\u001b[39;00m\u001b[39mstyle\u001b[39;00m \u001b[39mimport\u001b[39;00m Styler\n\u001b[1;32m   1293\u001b[0m     \u001b[39mreturn\u001b[39;00m Styler(\u001b[39mself\u001b[39m)\n",
      "File \u001b[0;32m~/Library/Python/3.9/lib/python/site-packages/pandas/io/formats/style.py:56\u001b[0m\n\u001b[1;32m     52\u001b[0m \u001b[39mfrom\u001b[39;00m \u001b[39mpandas\u001b[39;00m\u001b[39m.\u001b[39;00m\u001b[39mcore\u001b[39;00m\u001b[39m.\u001b[39;00m\u001b[39mshared_docs\u001b[39;00m \u001b[39mimport\u001b[39;00m _shared_docs\n\u001b[1;32m     54\u001b[0m \u001b[39mfrom\u001b[39;00m \u001b[39mpandas\u001b[39;00m\u001b[39m.\u001b[39;00m\u001b[39mio\u001b[39;00m\u001b[39m.\u001b[39;00m\u001b[39mformats\u001b[39;00m\u001b[39m.\u001b[39;00m\u001b[39mformat\u001b[39;00m \u001b[39mimport\u001b[39;00m save_to_buffer\n\u001b[0;32m---> 56\u001b[0m jinja2 \u001b[39m=\u001b[39m import_optional_dependency(\u001b[39m\"\u001b[39;49m\u001b[39mjinja2\u001b[39;49m\u001b[39m\"\u001b[39;49m, extra\u001b[39m=\u001b[39;49m\u001b[39m\"\u001b[39;49m\u001b[39mDataFrame.style requires jinja2.\u001b[39;49m\u001b[39m\"\u001b[39;49m)\n\u001b[1;32m     58\u001b[0m \u001b[39mfrom\u001b[39;00m \u001b[39mpandas\u001b[39;00m\u001b[39m.\u001b[39;00m\u001b[39mio\u001b[39;00m\u001b[39m.\u001b[39;00m\u001b[39mformats\u001b[39;00m\u001b[39m.\u001b[39;00m\u001b[39mstyle_render\u001b[39;00m \u001b[39mimport\u001b[39;00m (\n\u001b[1;32m     59\u001b[0m     CSSProperties,\n\u001b[1;32m     60\u001b[0m     CSSStyles,\n\u001b[0;32m   (...)\u001b[0m\n\u001b[1;32m     68\u001b[0m     refactor_levels,\n\u001b[1;32m     69\u001b[0m )\n\u001b[1;32m     71\u001b[0m \u001b[39mif\u001b[39;00m TYPE_CHECKING:\n",
      "File \u001b[0;32m~/Library/Python/3.9/lib/python/site-packages/pandas/compat/_optional.py:145\u001b[0m, in \u001b[0;36mimport_optional_dependency\u001b[0;34m(name, extra, errors, min_version)\u001b[0m\n\u001b[1;32m    143\u001b[0m \u001b[39mexcept\u001b[39;00m \u001b[39mImportError\u001b[39;00m:\n\u001b[1;32m    144\u001b[0m     \u001b[39mif\u001b[39;00m errors \u001b[39m==\u001b[39m \u001b[39m\"\u001b[39m\u001b[39mraise\u001b[39m\u001b[39m\"\u001b[39m:\n\u001b[0;32m--> 145\u001b[0m         \u001b[39mraise\u001b[39;00m \u001b[39mImportError\u001b[39;00m(msg)\n\u001b[1;32m    146\u001b[0m     \u001b[39mreturn\u001b[39;00m \u001b[39mNone\u001b[39;00m\n\u001b[1;32m    148\u001b[0m \u001b[39m# Handle submodules: if we have submodule, grab parent module from sys.modules\u001b[39;00m\n",
      "\u001b[0;31mImportError\u001b[0m: Missing optional dependency 'Jinja2'. DataFrame.style requires jinja2. Use pip or conda to install Jinja2."
     ]
    }
   ],
   "source": [
    "def custom_table(styler):\n",
    "    styler.background_gradient(cmap=\"Reds\", axis=None)\n",
    "    return styler\n",
    "\n",
    "df.style.pipe(custom_table)"
   ]
  },
  {
   "attachments": {},
   "cell_type": "markdown",
   "metadata": {},
   "source": [
    "Here, for example, it's much easier to see that temperatures in New York are **higher** compared to London."
   ]
  },
  {
   "attachments": {},
   "cell_type": "markdown",
   "metadata": {},
   "source": [
    "## Add aggregate metrics\n",
    "\n",
    "To make our table more meaningful, we can then add **aggregation measures**. To do this, we use pandas' `agg()` and `concat()` functions.\n",
    "\n",
    "We also add a line to our function to **round off the values** in our table, using the `format()` function."
   ]
  },
  {
   "cell_type": "code",
   "execution_count": 5,
   "metadata": {
    "tags": []
   },
   "outputs": [
    {
     "ename": "ImportError",
     "evalue": "Missing optional dependency 'Jinja2'. DataFrame.style requires jinja2. Use pip or conda to install Jinja2.",
     "output_type": "error",
     "traceback": [
      "\u001b[0;31m---------------------------------------------------------------------------\u001b[0m",
      "\u001b[0;31mModuleNotFoundError\u001b[0m                       Traceback (most recent call last)",
      "File \u001b[0;32m~/Library/Python/3.9/lib/python/site-packages/pandas/compat/_optional.py:142\u001b[0m, in \u001b[0;36mimport_optional_dependency\u001b[0;34m(name, extra, errors, min_version)\u001b[0m\n\u001b[1;32m    141\u001b[0m \u001b[39mtry\u001b[39;00m:\n\u001b[0;32m--> 142\u001b[0m     module \u001b[39m=\u001b[39m importlib\u001b[39m.\u001b[39;49mimport_module(name)\n\u001b[1;32m    143\u001b[0m \u001b[39mexcept\u001b[39;00m \u001b[39mImportError\u001b[39;00m:\n",
      "File \u001b[0;32m/Library/Developer/CommandLineTools/Library/Frameworks/Python3.framework/Versions/3.9/lib/python3.9/importlib/__init__.py:127\u001b[0m, in \u001b[0;36mimport_module\u001b[0;34m(name, package)\u001b[0m\n\u001b[1;32m    126\u001b[0m         level \u001b[39m+\u001b[39m\u001b[39m=\u001b[39m \u001b[39m1\u001b[39m\n\u001b[0;32m--> 127\u001b[0m \u001b[39mreturn\u001b[39;00m _bootstrap\u001b[39m.\u001b[39;49m_gcd_import(name[level:], package, level)\n",
      "File \u001b[0;32m<frozen importlib._bootstrap>:1030\u001b[0m, in \u001b[0;36m_gcd_import\u001b[0;34m(name, package, level)\u001b[0m\n",
      "File \u001b[0;32m<frozen importlib._bootstrap>:1007\u001b[0m, in \u001b[0;36m_find_and_load\u001b[0;34m(name, import_)\u001b[0m\n",
      "File \u001b[0;32m<frozen importlib._bootstrap>:984\u001b[0m, in \u001b[0;36m_find_and_load_unlocked\u001b[0;34m(name, import_)\u001b[0m\n",
      "\u001b[0;31mModuleNotFoundError\u001b[0m: No module named 'jinja2'",
      "\nDuring handling of the above exception, another exception occurred:\n",
      "\u001b[0;31mImportError\u001b[0m                               Traceback (most recent call last)",
      "Cell \u001b[0;32mIn[5], line 7\u001b[0m\n\u001b[1;32m      4\u001b[0m     \u001b[39mreturn\u001b[39;00m styler\n\u001b[1;32m      6\u001b[0m agg_metrics \u001b[39m=\u001b[39m df\u001b[39m.\u001b[39magg([\u001b[39m\"\u001b[39m\u001b[39msum\u001b[39m\u001b[39m\"\u001b[39m, \u001b[39m\"\u001b[39m\u001b[39mmean\u001b[39m\u001b[39m\"\u001b[39m, \u001b[39m\"\u001b[39m\u001b[39mmax\u001b[39m\u001b[39m\"\u001b[39m])\n\u001b[0;32m----> 7\u001b[0m pd\u001b[39m.\u001b[39;49mconcat([df, agg_metrics])\u001b[39m.\u001b[39;49mstyle\u001b[39m.\u001b[39mpipe(custom_table)\n",
      "File \u001b[0;32m~/Library/Python/3.9/lib/python/site-packages/pandas/core/frame.py:1291\u001b[0m, in \u001b[0;36mDataFrame.style\u001b[0;34m(self)\u001b[0m\n\u001b[1;32m   1279\u001b[0m \u001b[39m@property\u001b[39m\n\u001b[1;32m   1280\u001b[0m \u001b[39mdef\u001b[39;00m \u001b[39mstyle\u001b[39m(\u001b[39mself\u001b[39m) \u001b[39m-\u001b[39m\u001b[39m>\u001b[39m Styler:\n\u001b[1;32m   1281\u001b[0m \u001b[39m    \u001b[39m\u001b[39m\"\"\"\u001b[39;00m\n\u001b[1;32m   1282\u001b[0m \u001b[39m    Returns a Styler object.\u001b[39;00m\n\u001b[1;32m   1283\u001b[0m \n\u001b[0;32m   (...)\u001b[0m\n\u001b[1;32m   1289\u001b[0m \u001b[39m        data with HTML and CSS.\u001b[39;00m\n\u001b[1;32m   1290\u001b[0m \u001b[39m    \"\"\"\u001b[39;00m\n\u001b[0;32m-> 1291\u001b[0m     \u001b[39mfrom\u001b[39;00m \u001b[39mpandas\u001b[39;00m\u001b[39m.\u001b[39;00m\u001b[39mio\u001b[39;00m\u001b[39m.\u001b[39;00m\u001b[39mformats\u001b[39;00m\u001b[39m.\u001b[39;00m\u001b[39mstyle\u001b[39;00m \u001b[39mimport\u001b[39;00m Styler\n\u001b[1;32m   1293\u001b[0m     \u001b[39mreturn\u001b[39;00m Styler(\u001b[39mself\u001b[39m)\n",
      "File \u001b[0;32m~/Library/Python/3.9/lib/python/site-packages/pandas/io/formats/style.py:56\u001b[0m\n\u001b[1;32m     52\u001b[0m \u001b[39mfrom\u001b[39;00m \u001b[39mpandas\u001b[39;00m\u001b[39m.\u001b[39;00m\u001b[39mcore\u001b[39;00m\u001b[39m.\u001b[39;00m\u001b[39mshared_docs\u001b[39;00m \u001b[39mimport\u001b[39;00m _shared_docs\n\u001b[1;32m     54\u001b[0m \u001b[39mfrom\u001b[39;00m \u001b[39mpandas\u001b[39;00m\u001b[39m.\u001b[39;00m\u001b[39mio\u001b[39;00m\u001b[39m.\u001b[39;00m\u001b[39mformats\u001b[39;00m\u001b[39m.\u001b[39;00m\u001b[39mformat\u001b[39;00m \u001b[39mimport\u001b[39;00m save_to_buffer\n\u001b[0;32m---> 56\u001b[0m jinja2 \u001b[39m=\u001b[39m import_optional_dependency(\u001b[39m\"\u001b[39;49m\u001b[39mjinja2\u001b[39;49m\u001b[39m\"\u001b[39;49m, extra\u001b[39m=\u001b[39;49m\u001b[39m\"\u001b[39;49m\u001b[39mDataFrame.style requires jinja2.\u001b[39;49m\u001b[39m\"\u001b[39;49m)\n\u001b[1;32m     58\u001b[0m \u001b[39mfrom\u001b[39;00m \u001b[39mpandas\u001b[39;00m\u001b[39m.\u001b[39;00m\u001b[39mio\u001b[39;00m\u001b[39m.\u001b[39;00m\u001b[39mformats\u001b[39;00m\u001b[39m.\u001b[39;00m\u001b[39mstyle_render\u001b[39;00m \u001b[39mimport\u001b[39;00m (\n\u001b[1;32m     59\u001b[0m     CSSProperties,\n\u001b[1;32m     60\u001b[0m     CSSStyles,\n\u001b[0;32m   (...)\u001b[0m\n\u001b[1;32m     68\u001b[0m     refactor_levels,\n\u001b[1;32m     69\u001b[0m )\n\u001b[1;32m     71\u001b[0m \u001b[39mif\u001b[39;00m TYPE_CHECKING:\n",
      "File \u001b[0;32m~/Library/Python/3.9/lib/python/site-packages/pandas/compat/_optional.py:145\u001b[0m, in \u001b[0;36mimport_optional_dependency\u001b[0;34m(name, extra, errors, min_version)\u001b[0m\n\u001b[1;32m    143\u001b[0m \u001b[39mexcept\u001b[39;00m \u001b[39mImportError\u001b[39;00m:\n\u001b[1;32m    144\u001b[0m     \u001b[39mif\u001b[39;00m errors \u001b[39m==\u001b[39m \u001b[39m\"\u001b[39m\u001b[39mraise\u001b[39m\u001b[39m\"\u001b[39m:\n\u001b[0;32m--> 145\u001b[0m         \u001b[39mraise\u001b[39;00m \u001b[39mImportError\u001b[39;00m(msg)\n\u001b[1;32m    146\u001b[0m     \u001b[39mreturn\u001b[39;00m \u001b[39mNone\u001b[39;00m\n\u001b[1;32m    148\u001b[0m \u001b[39m# Handle submodules: if we have submodule, grab parent module from sys.modules\u001b[39;00m\n",
      "\u001b[0;31mImportError\u001b[0m: Missing optional dependency 'Jinja2'. DataFrame.style requires jinja2. Use pip or conda to install Jinja2."
     ]
    }
   ],
   "source": [
    "def custom_table(styler):\n",
    "    styler.background_gradient(cmap=\"Blues\", axis=None)\n",
    "    styler.format(precision=2)\n",
    "    return styler\n",
    "\n",
    "agg_metrics = df.agg([\"sum\", \"mean\", \"max\"])\n",
    "pd.concat([df, agg_metrics]).style.pipe(custom_table)"
   ]
  },
  {
   "attachments": {},
   "cell_type": "markdown",
   "metadata": {},
   "source": [
    "## Going further\n",
    "\n",
    "This post explains how to create a simple custom table with [pandas](https://python-graph-gallery.com/pandas/).\n",
    "\n",
    "For more examples of **how to create or customize** your tables, see the [table section](https://python-graph-gallery.com/table/). You may also be interested in how to [add HTML and CCS to your table](https://python-graph-gallery.com/5xx-pandas-table-with-html-and-css/)."
   ]
  },
  {
   "cell_type": "code",
   "execution_count": 6,
   "metadata": {},
   "outputs": [],
   "source": [
    "import pandas as pd\n",
    "import matplotlib.pyplot as plt\n",
    "from io import BytesIO\n",
    "import base64\n",
    "\n",
    "# Create a sample DataFrame\n",
    "data = {\n",
    "    'Group': ['A', 'B', 'C'],\n",
    "    'Values': [[1, 2, 3, 4], [4, 3, 2, 1], [2, 2, 2, 2]]\n",
    "}\n",
    "df = pd.DataFrame(data)\n",
    "\n",
    "# Function to generate sparkline strings\n",
    "def generate_sparkline(lst):\n",
    "    fig, ax = plt.subplots(figsize=(2, 0.5))\n",
    "    ax.plot(lst)\n",
    "    ax.axis('off')\n",
    "    \n",
    "    img = BytesIO()\n",
    "    plt.savefig(img, format='png', bbox_inches='tight', pad_inches=0)\n",
    "    img.seek(0)\n",
    "    plt.close(fig)\n",
    "    \n",
    "    return f'<img src=\"data:image/png;base64,{base64.b64encode(img.read()).decode()}\"/>'\n",
    "\n",
    "# Add a new column with sparklines\n",
    "df['Sparkline'] = df['Values'].apply(generate_sparkline)\n",
    "\n",
    "# Save the DataFrame to an HTML file\n",
    "with open(\"/Users/holtzy/Desktop/sparkline_table.html\", \"w\") as f:\n",
    "    f.write(df.to_html(index=False, escape=False))\n"
   ]
  },
  {
   "cell_type": "code",
   "execution_count": 1,
   "metadata": {},
   "outputs": [
    {
     "data": {
      "image/png": "[encoded data removed]",
      "text/plain": [
       "<Figure size 500x800 with 1 Axes>"
      ]
     },
     "metadata": {},
     "output_type": "display_data"
    }
   ],
   "source": [
    "import matplotlib.pyplot as plt\n",
    "import numpy as np\n",
    "import pandas as pd\n",
    "\n",
    "from plottable import Table\n",
    "\n",
    "d = pd.DataFrame(np.random.random((10, 5)), columns=[\"A\", \"B\", \"C\", \"D\", \"E\"]).round(2)\n",
    "fig, ax = plt.subplots(figsize=(5, 8))\n",
    "tab = Table(d)\n",
    "\n",
    "plt.show()"
   ]
  }
 ],
 "metadata": {
  "chartType": "colors",
  "description": "<b>Creating elegant tables</b> with the <a href='https://python-graph-gallery.com/pandas/'>Pandas</a> library in Python is a useful way to organize and display <b>structured data</b>. <a href='https://python-graph-gallery.com/pandas/'>Pandas</a> tables allow you to present information in a neat and organized format, making it easy to analyze and understand various datasets.<br>  You can use Pandas to create tables that display data such as <b>numerical values, text, and categorical</b> information. These tables can be <b>customized and styled</b> to enhance their visual appeal, making them a versatile tool for <i>data presentation and analysis</i>.",
  "family": "general",
  "kernelspec": {
   "display_name": "Python 3 (ipykernel)",
   "language": "python",
   "name": "python3"
  },
  "keywords": "table, pandas, customization, styler",
  "language_info": {
   "codemirror_mode": {
    "name": "ipython",
    "version": 3
   },
   "file_extension": ".py",
   "mimetype": "text/x-python",
   "name": "python",
   "nbconvert_exporter": "python",
   "pygments_lexer": "ipython3",
   "version": "3.11.4"
  },
  "seoDescription": "How to custom a table with pandas",
  "slug": "550-intro-table-with-pandas",
  "title": "Introduction to table with Pandas"
 },
 "nbformat": 4,
 "nbformat_minor": 4
}
