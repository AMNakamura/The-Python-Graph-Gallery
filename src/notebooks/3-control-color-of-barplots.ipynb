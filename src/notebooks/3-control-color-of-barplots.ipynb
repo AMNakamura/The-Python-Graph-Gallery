{
 "cells": [
  {
   "cell_type": "markdown",
   "metadata": {},
   "source": [
    "## Libraries\n",
    "\n",
    "First, you need to import the following libraries:\n",
    "- [matplotlib](https://python-graph-gallery.com/matplotlib/) for creating the chart and customize it\n",
    "- [pandas](https://python-graph-gallery.com/pandas/) for storing the data used"
   ]
  },
  {
   "cell_type": "code",
   "execution_count": 9,
   "metadata": {},
   "outputs": [],
   "source": [
    "import matplotlib.pyplot as plt\n",
    "import pandas as pd"
   ]
  },
  {
   "cell_type": "markdown",
   "metadata": {},
   "source": [
    "## Dataset\n",
    "\n",
    "In this post, we'll use a very simple dataset, that you can create as follow"
   ]
  },
  {
   "cell_type": "code",
   "execution_count": 10,
   "metadata": {},
   "outputs": [],
   "source": [
    "height = [3, 12, 5, 18, 45]\n",
    "bars = ('A', 'B', 'C', 'D', 'E')\n",
    "\n",
    "df = pd.DataFrame({'height': height,\n",
    "                   'bars': bars})"
   ]
  },
  {
   "cell_type": "markdown",
   "metadata": {},
   "source": [
    "## Uniform color using RGB"
   ]
  },
  {
   "cell_type": "markdown",
   "metadata": {},
   "source": [
    "You can change the color of bars in a barplot using `color` argument.  \n",
    "**RGB** is a way of making colors. You have to to provide an amount of red, green, blue, and the transparency value to the color argument and it returns a color."
   ]
  },
  {
   "cell_type": "code",
   "execution_count": 11,
   "metadata": {},
   "outputs": [
    {
     "data": {
      "image/png": "[encoded data removed]",
      "text/plain": [
       "<Figure size 640x480 with 1 Axes>"
      ]
     },
     "metadata": {},
     "output_type": "display_data"
    }
   ],
   "source": [
    "color = (0.2, # redness\n",
    "         0.4, # greenness\n",
    "         0.6, # blueness\n",
    "         0.6 # transparency\n",
    "         ) \n",
    "\n",
    "# Create bars\n",
    "fig, ax = plt.subplots()\n",
    "ax.bar(df['bars'], df['height'],\n",
    "       color=color)\n",
    "\n",
    "# Show graph\n",
    "plt.show()"
   ]
  },
  {
   "cell_type": "markdown",
   "metadata": {},
   "source": [
    "## Different color for each bar"
   ]
  },
  {
   "cell_type": "markdown",
   "metadata": {},
   "source": [
    "If you want to give **different color to each bar**, just provide a list of color names to the `color` argument.\n",
    "\n",
    "You can find the available colors at [this address](https://matplotlib.org/stable/gallery/color/named_colors.html)"
   ]
  },
  {
   "cell_type": "code",
   "execution_count": 12,
   "metadata": {},
   "outputs": [
    {
     "data": {
      "image/png": "[encoded data removed]",
      "text/plain": [
       "<Figure size 640x480 with 1 Axes>"
      ]
     },
     "metadata": {},
     "output_type": "display_data"
    }
   ],
   "source": [
    "color = ['lightblue', 'blue', 'purple', 'red', 'black']\n",
    "\n",
    "# Create bars\n",
    "fig, ax = plt.subplots()\n",
    "ax.bar(df['bars'], df['height'],\n",
    "       color=color)\n",
    "\n",
    "# Show graph\n",
    "plt.show()"
   ]
  },
  {
   "cell_type": "markdown",
   "metadata": {},
   "source": [
    "## Control color of border"
   ]
  },
  {
   "cell_type": "markdown",
   "metadata": {},
   "source": [
    "The `edgecolor` argument allows you to color the borders of barplots. You can either put a color name like 'blue' or put a **list of colors**.\n",
    "\n",
    "We also specify `linewidth=3` in order to make the edges more visible (the default value is 1 and can be too thin). "
   ]
  },
  {
   "cell_type": "code",
   "execution_count": 15,
   "metadata": {},
   "outputs": [
    {
     "data": {
      "image/png": "[encoded data removed]",
      "text/plain": [
       "<Figure size 640x480 with 1 Axes>"
      ]
     },
     "metadata": {},
     "output_type": "display_data"
    }
   ],
   "source": [
    "color = ['lightblue', 'blue', 'purple', 'red', 'black']\n",
    "edgecolor = ['red', 'orange', 'darkblue', 'darkred', 'yellow']\n",
    "\n",
    "# Create bars\n",
    "fig, ax = plt.subplots()\n",
    "ax.bar(df['bars'], df['height'],\n",
    "       color=color,\n",
    "       edgecolor=edgecolor,\n",
    "       linewidth=3)\n",
    "\n",
    "# Show graph\n",
    "plt.show()"
   ]
  },
  {
   "cell_type": "markdown",
   "metadata": {},
   "source": [
    "## Going further\n",
    "\n",
    "This post explains how to **modify the colors** of a [barplot](https://python-graph-gallery.com/barplot/) with matplotlib.\n",
    "\n",
    "You might want to check [how to custom width of bars](https://python-graph-gallery.com/5-control-width-and-space-in-barplots/) and [how to flip a barplot](https://python-graph-gallery.com/2-horizontal-barplot/)."
   ]
  }
 ],
 "metadata": {
  "chartType": "barplot",
  "description": "This post aims to describe how to use <b>colors</b> on <a href='https://python-graph-gallery.com/matplotlib/'>matplotlib</a> <a href='http://python-graph-gallery.com/barplot/'>barplots</a>.",
  "family": "ranking",
  "kernelspec": {
   "display_name": "Python 3",
   "language": "python",
   "name": "python3"
  },
  "keywords": "python, chart, plot, seaborn, matplotlib, barplot, bar, color",
  "language_info": {
   "codemirror_mode": {
    "name": "ipython",
    "version": 3
   },
   "file_extension": ".py",
   "mimetype": "text/x-python",
   "name": "python",
   "nbconvert_exporter": "python",
   "pygments_lexer": "ipython3",
   "version": "3.9.13"
  },
  "seoDescription": "Controlling the color of barplots using matplotlib",
  "slug": "3-control-color-of-barplots",
  "title": "Control the color of barplots built with matplotlib"
 },
 "nbformat": 4,
 "nbformat_minor": 4
}
