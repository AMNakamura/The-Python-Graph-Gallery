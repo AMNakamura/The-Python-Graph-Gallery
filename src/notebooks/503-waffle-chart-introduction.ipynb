{
  "cells": [
    {
      "attachments": {},
      "cell_type": "markdown",
      "metadata": {},
      "source": [
        "## The PyWaffle library"
      ]
    },
    {
      "attachments": {},
      "cell_type": "markdown",
      "metadata": {},
      "source": [
        "A waffle chart is a visual representation of data where individual squares are used to depict the proportion or distribution of categorical variables, with the total number of squares forming a grid-like pattern resembling a waffle. It has the same goal than a [treemap](https://python-graph-gallery.com/treemap/) or a pie chart.\n",
        "\n",
        "\n",
        "This post relies on the [PyWaffle library](https://github.com/gyli/PyWaffle), that is definitely the best way to create a waffle chart with Python.\n",
        "\n",
        "The very first thing.....\n",
        "\n",
        "`pip install pywaffle`"
      ]
    },
    {
      "attachments": {},
      "cell_type": "markdown",
      "metadata": {},
      "source": [
        "We can now import the necessary libraries:"
      ]
    },
    {
      "cell_type": "code",
      "execution_count": null,
      "metadata": {},
      "outputs": [],
      "source": [
        "import matplotlib.pyplot as plt\n",
        "from pywaffle import Waffle"
      ]
    },
    {
      "attachments": {},
      "cell_type": "markdown",
      "metadata": {},
      "source": [
        "## The data"
      ]
    },
    {
      "attachments": {},
      "cell_type": "markdown",
      "metadata": {},
      "source": [
        "Let's create a dummy dataset for our first waffle chart. ...so more explanation on how to create the dataset."
      ]
    },
    {
      "cell_type": "code",
      "execution_count": null,
      "metadata": {},
      "outputs": [],
      "source": [
        "# create simple dummy data\n",
        "data = {'Kevin': 10, 'Joseph': 7, 'Yan': 9}"
      ]
    },
    {
      "attachments": {},
      "cell_type": "markdown",
      "metadata": {},
      "source": [
        "## First waffle chart\n",
        "\n",
        "The waffle chart can now be made thanks to the "
      ]
    },
    {
      "cell_type": "code",
      "execution_count": null,
      "metadata": {},
      "outputs": [],
      "source": [
        "plt.figure(\n",
        "    FigureClass=Waffle,\n",
        "    rows=5,\n",
        "    values=data,\n",
        "    legend={'loc': 'upper left', 'bbox_to_anchor': (1.05, 1)},\n",
        ")\n",
        "plt.show()"
      ]
    },
    {
      "attachments": {},
      "cell_type": "markdown",
      "metadata": {},
      "source": [
        "## Customizing the color palette\n",
        "explanation"
      ]
    },
    {
      "cell_type": "code",
      "execution_count": null,
      "metadata": {},
      "outputs": [],
      "source": [
        "# Data for the waffle chart\n",
        "data = {'Category 1': 15,\n",
        "        'Category 2': 30,\n",
        "        'Category 3': 10,\n",
        "        'Category 4': 25,\n",
        "        'Category 5': 20}\n",
        "\n",
        "# Total number of icons in the waffle chart\n",
        "total_icons = sum(data.values())\n",
        "\n",
        "# Create a waffle chart\n",
        "fig = plt.figure(\n",
        "    FigureClass=Waffle,\n",
        "    rows=5,  # Adjust rows to change the height of the waffle chart\n",
        "    values=data,\n",
        "    icons='star',  # You can use different icons like 'circle', 'diamond', 'square', 'hexagon', etc.\n",
        "    colors=[\"#FF5733\", \"#FFC300\", \"#900C3F\", \"#FF5733\", \"#C70039\"],\n",
        "    legend={'loc': 'upper left', 'bbox_to_anchor': (1, 1)},\n",
        "    icon_legend=True,\n",
        "    figsize=(8, 4)  # Adjust figsize to change the width of the waffle chart\n",
        ")\n",
        "\n",
        "# Add a title\n",
        "plt.title(\"Basic Waffle Chart Example\")\n",
        "\n",
        "# Display the chart\n",
        "plt.show()"
      ]
    }
  ],
  "metadata": {
    "chartType": "density",
    "description": "This page is an introduction on how to make a waffle chart with <code>Python</code> and <a href='https://python-graph-gallery.com/matplotlib/'>Matplotlib</a>. It starts with a very basic example and then explains how to apply some basic customization like changing colors or displaying multiple groups.",
    "family": "partOfAWhole",
    "kernelspec": {
      "display_name": "Python 3",
      "language": "python",
      "name": "python3"
    },
    "keywords": "python, chart, plot, seaborn, matplotlib, waffle, PyWaffle",
    "language_info": {
      "codemirror_mode": {
        "name": "ipython",
        "version": 3
      },
      "file_extension": ".py",
      "mimetype": "text/x-python",
      "name": "python",
      "nbconvert_exporter": "python",
      "pygments_lexer": "ipython3",
      "version": "3.8.3-final"
    },
    "seoDescription": "An introduction on how to build a waffle chart using Python and the PyWaffle library.",
    "slug": "503-waffle-chart-introduction",
    "title": "Waffle chart with Python and the PyWaffle library"
  },
  "nbformat": 4,
  "nbformat_minor": 4
}
